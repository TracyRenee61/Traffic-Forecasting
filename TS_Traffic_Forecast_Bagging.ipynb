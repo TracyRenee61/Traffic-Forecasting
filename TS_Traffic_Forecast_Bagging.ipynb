{
  "nbformat": 4,
  "nbformat_minor": 0,
  "metadata": {
    "colab": {
      "name": "TS Traffic Forecast - Bagging.ipynb",
      "provenance": [],
      "collapsed_sections": []
    },
    "kernelspec": {
      "display_name": "Python 3",
      "name": "python3"
    }
  },
  "cells": [
    {
      "cell_type": "markdown",
      "metadata": {
        "id": "7Z8IdF4GSM7c"
      },
      "source": [
        "You are working with the government to transform your city into a smart city. The vision is to convert it into a digital and intelligent city to improve the efficiency of services for the citizens. One of the problems faced by the government is traffic. You are a data scientist working to manage the traffic of the city better and to provide input on infrastructure planning for the future.\n",
        "\n",
        "The government wants to implement a robust traffic system for the city by being prepared for traffic peaks. They want to understand the traffic patterns of the four junctions of the city. Traffic patterns on holidays, as well as on various other occasions during the year, differ from normal working days. This is important to take into account for your forecasting.\n",
        "\n",
        "To predict traffic patterns in each of these four junctions for the next 4 months.\n",
        "\n",
        "The sensors on each of these junctions were collecting data at different times, hence you will see traffic data from different time periods. To add to the complexity, some of the junctions have provided limited or sparse data requiring thoughtfulness when creating future projections. Depending upon the historical data of 20 months, the government is looking to you to deliver accurate traffic projections for the coming four months. Your algorithm will become the foundation of a larger transformation to make your city smart and intelligent.\n"
      ]
    },
    {
      "cell_type": "markdown",
      "metadata": {
        "id": "R-CMxiL9SZM-"
      },
      "source": [
        "Import libraries"
      ]
    },
    {
      "cell_type": "code",
      "metadata": {
        "id": "4P3ib6OmR4YS"
      },
      "source": [
        "#import libraries\n",
        "import pandas as pd\n",
        "import numpy as np\n",
        "import matplotlib.pyplot as plt\n",
        "%matplotlib inline\n",
        "import seaborn as sns"
      ],
      "execution_count": 141,
      "outputs": []
    },
    {
      "cell_type": "markdown",
      "metadata": {
        "id": "dMcx5r4nSpal"
      },
      "source": [
        "Import csv files"
      ]
    },
    {
      "cell_type": "code",
      "metadata": {
        "id": "OLDsNCP9S0dQ"
      },
      "source": [
        "#read files\n",
        "#Reading train file:\n",
        "train = pd.read_csv('https://raw.githubusercontent.com/TracyRenee61/Traffic-Forecasting/main/train_aWnotuB.csv')\n",
        "#Reading test file:\n",
        "test = pd.read_csv('https://raw.githubusercontent.com/TracyRenee61/Traffic-Forecasting/main/test_BdBKkAj.csv')\n",
        "#Reading sample submission file:\n",
        "sample = pd.read_csv('https://raw.githubusercontent.com/TracyRenee61/Traffic-Forecasting/main/sample_submission_EZmX9uE.csv')"
      ],
      "execution_count": 142,
      "outputs": []
    },
    {
      "cell_type": "code",
      "metadata": {
        "colab": {
          "base_uri": "https://localhost:8080/",
          "height": 407
        },
        "id": "Ddpu32NGUmEo",
        "outputId": "7d883883-2a94-484a-f210-b60c3649ef40"
      },
      "source": [
        "train"
      ],
      "execution_count": 143,
      "outputs": [
        {
          "output_type": "execute_result",
          "data": {
            "text/html": [
              "<div>\n",
              "<style scoped>\n",
              "    .dataframe tbody tr th:only-of-type {\n",
              "        vertical-align: middle;\n",
              "    }\n",
              "\n",
              "    .dataframe tbody tr th {\n",
              "        vertical-align: top;\n",
              "    }\n",
              "\n",
              "    .dataframe thead th {\n",
              "        text-align: right;\n",
              "    }\n",
              "</style>\n",
              "<table border=\"1\" class=\"dataframe\">\n",
              "  <thead>\n",
              "    <tr style=\"text-align: right;\">\n",
              "      <th></th>\n",
              "      <th>DateTime</th>\n",
              "      <th>Junction</th>\n",
              "      <th>Vehicles</th>\n",
              "      <th>ID</th>\n",
              "    </tr>\n",
              "  </thead>\n",
              "  <tbody>\n",
              "    <tr>\n",
              "      <th>0</th>\n",
              "      <td>2015-11-01 00:00:00</td>\n",
              "      <td>1</td>\n",
              "      <td>15</td>\n",
              "      <td>20151101001</td>\n",
              "    </tr>\n",
              "    <tr>\n",
              "      <th>1</th>\n",
              "      <td>2015-11-01 01:00:00</td>\n",
              "      <td>1</td>\n",
              "      <td>13</td>\n",
              "      <td>20151101011</td>\n",
              "    </tr>\n",
              "    <tr>\n",
              "      <th>2</th>\n",
              "      <td>2015-11-01 02:00:00</td>\n",
              "      <td>1</td>\n",
              "      <td>10</td>\n",
              "      <td>20151101021</td>\n",
              "    </tr>\n",
              "    <tr>\n",
              "      <th>3</th>\n",
              "      <td>2015-11-01 03:00:00</td>\n",
              "      <td>1</td>\n",
              "      <td>7</td>\n",
              "      <td>20151101031</td>\n",
              "    </tr>\n",
              "    <tr>\n",
              "      <th>4</th>\n",
              "      <td>2015-11-01 04:00:00</td>\n",
              "      <td>1</td>\n",
              "      <td>9</td>\n",
              "      <td>20151101041</td>\n",
              "    </tr>\n",
              "    <tr>\n",
              "      <th>...</th>\n",
              "      <td>...</td>\n",
              "      <td>...</td>\n",
              "      <td>...</td>\n",
              "      <td>...</td>\n",
              "    </tr>\n",
              "    <tr>\n",
              "      <th>48115</th>\n",
              "      <td>2017-06-30 19:00:00</td>\n",
              "      <td>4</td>\n",
              "      <td>11</td>\n",
              "      <td>20170630194</td>\n",
              "    </tr>\n",
              "    <tr>\n",
              "      <th>48116</th>\n",
              "      <td>2017-06-30 20:00:00</td>\n",
              "      <td>4</td>\n",
              "      <td>30</td>\n",
              "      <td>20170630204</td>\n",
              "    </tr>\n",
              "    <tr>\n",
              "      <th>48117</th>\n",
              "      <td>2017-06-30 21:00:00</td>\n",
              "      <td>4</td>\n",
              "      <td>16</td>\n",
              "      <td>20170630214</td>\n",
              "    </tr>\n",
              "    <tr>\n",
              "      <th>48118</th>\n",
              "      <td>2017-06-30 22:00:00</td>\n",
              "      <td>4</td>\n",
              "      <td>22</td>\n",
              "      <td>20170630224</td>\n",
              "    </tr>\n",
              "    <tr>\n",
              "      <th>48119</th>\n",
              "      <td>2017-06-30 23:00:00</td>\n",
              "      <td>4</td>\n",
              "      <td>12</td>\n",
              "      <td>20170630234</td>\n",
              "    </tr>\n",
              "  </tbody>\n",
              "</table>\n",
              "<p>48120 rows × 4 columns</p>\n",
              "</div>"
            ],
            "text/plain": [
              "                  DateTime  Junction  Vehicles           ID\n",
              "0      2015-11-01 00:00:00         1        15  20151101001\n",
              "1      2015-11-01 01:00:00         1        13  20151101011\n",
              "2      2015-11-01 02:00:00         1        10  20151101021\n",
              "3      2015-11-01 03:00:00         1         7  20151101031\n",
              "4      2015-11-01 04:00:00         1         9  20151101041\n",
              "...                    ...       ...       ...          ...\n",
              "48115  2017-06-30 19:00:00         4        11  20170630194\n",
              "48116  2017-06-30 20:00:00         4        30  20170630204\n",
              "48117  2017-06-30 21:00:00         4        16  20170630214\n",
              "48118  2017-06-30 22:00:00         4        22  20170630224\n",
              "48119  2017-06-30 23:00:00         4        12  20170630234\n",
              "\n",
              "[48120 rows x 4 columns]"
            ]
          },
          "metadata": {
            "tags": []
          },
          "execution_count": 143
        }
      ]
    },
    {
      "cell_type": "code",
      "metadata": {
        "colab": {
          "base_uri": "https://localhost:8080/",
          "height": 407
        },
        "id": "bDeTJliuUwHI",
        "outputId": "8f37ed4b-9f79-4501-8e8b-44bcf55f1717"
      },
      "source": [
        "test"
      ],
      "execution_count": 144,
      "outputs": [
        {
          "output_type": "execute_result",
          "data": {
            "text/html": [
              "<div>\n",
              "<style scoped>\n",
              "    .dataframe tbody tr th:only-of-type {\n",
              "        vertical-align: middle;\n",
              "    }\n",
              "\n",
              "    .dataframe tbody tr th {\n",
              "        vertical-align: top;\n",
              "    }\n",
              "\n",
              "    .dataframe thead th {\n",
              "        text-align: right;\n",
              "    }\n",
              "</style>\n",
              "<table border=\"1\" class=\"dataframe\">\n",
              "  <thead>\n",
              "    <tr style=\"text-align: right;\">\n",
              "      <th></th>\n",
              "      <th>DateTime</th>\n",
              "      <th>Junction</th>\n",
              "      <th>ID</th>\n",
              "    </tr>\n",
              "  </thead>\n",
              "  <tbody>\n",
              "    <tr>\n",
              "      <th>0</th>\n",
              "      <td>2017-07-01 00:00:00</td>\n",
              "      <td>1</td>\n",
              "      <td>20170701001</td>\n",
              "    </tr>\n",
              "    <tr>\n",
              "      <th>1</th>\n",
              "      <td>2017-07-01 01:00:00</td>\n",
              "      <td>1</td>\n",
              "      <td>20170701011</td>\n",
              "    </tr>\n",
              "    <tr>\n",
              "      <th>2</th>\n",
              "      <td>2017-07-01 02:00:00</td>\n",
              "      <td>1</td>\n",
              "      <td>20170701021</td>\n",
              "    </tr>\n",
              "    <tr>\n",
              "      <th>3</th>\n",
              "      <td>2017-07-01 03:00:00</td>\n",
              "      <td>1</td>\n",
              "      <td>20170701031</td>\n",
              "    </tr>\n",
              "    <tr>\n",
              "      <th>4</th>\n",
              "      <td>2017-07-01 04:00:00</td>\n",
              "      <td>1</td>\n",
              "      <td>20170701041</td>\n",
              "    </tr>\n",
              "    <tr>\n",
              "      <th>...</th>\n",
              "      <td>...</td>\n",
              "      <td>...</td>\n",
              "      <td>...</td>\n",
              "    </tr>\n",
              "    <tr>\n",
              "      <th>11803</th>\n",
              "      <td>2017-10-31 19:00:00</td>\n",
              "      <td>4</td>\n",
              "      <td>20171031194</td>\n",
              "    </tr>\n",
              "    <tr>\n",
              "      <th>11804</th>\n",
              "      <td>2017-10-31 20:00:00</td>\n",
              "      <td>4</td>\n",
              "      <td>20171031204</td>\n",
              "    </tr>\n",
              "    <tr>\n",
              "      <th>11805</th>\n",
              "      <td>2017-10-31 21:00:00</td>\n",
              "      <td>4</td>\n",
              "      <td>20171031214</td>\n",
              "    </tr>\n",
              "    <tr>\n",
              "      <th>11806</th>\n",
              "      <td>2017-10-31 22:00:00</td>\n",
              "      <td>4</td>\n",
              "      <td>20171031224</td>\n",
              "    </tr>\n",
              "    <tr>\n",
              "      <th>11807</th>\n",
              "      <td>2017-10-31 23:00:00</td>\n",
              "      <td>4</td>\n",
              "      <td>20171031234</td>\n",
              "    </tr>\n",
              "  </tbody>\n",
              "</table>\n",
              "<p>11808 rows × 3 columns</p>\n",
              "</div>"
            ],
            "text/plain": [
              "                  DateTime  Junction           ID\n",
              "0      2017-07-01 00:00:00         1  20170701001\n",
              "1      2017-07-01 01:00:00         1  20170701011\n",
              "2      2017-07-01 02:00:00         1  20170701021\n",
              "3      2017-07-01 03:00:00         1  20170701031\n",
              "4      2017-07-01 04:00:00         1  20170701041\n",
              "...                    ...       ...          ...\n",
              "11803  2017-10-31 19:00:00         4  20171031194\n",
              "11804  2017-10-31 20:00:00         4  20171031204\n",
              "11805  2017-10-31 21:00:00         4  20171031214\n",
              "11806  2017-10-31 22:00:00         4  20171031224\n",
              "11807  2017-10-31 23:00:00         4  20171031234\n",
              "\n",
              "[11808 rows x 3 columns]"
            ]
          },
          "metadata": {
            "tags": []
          },
          "execution_count": 144
        }
      ]
    },
    {
      "cell_type": "code",
      "metadata": {
        "colab": {
          "base_uri": "https://localhost:8080/",
          "height": 47
        },
        "id": "c7qdIpaSUycn",
        "outputId": "b9aa65e1-7cfd-4fee-e201-a9e8a7d708f0"
      },
      "source": [
        "sample"
      ],
      "execution_count": 145,
      "outputs": [
        {
          "output_type": "execute_result",
          "data": {
            "text/html": [
              "<div>\n",
              "<style scoped>\n",
              "    .dataframe tbody tr th:only-of-type {\n",
              "        vertical-align: middle;\n",
              "    }\n",
              "\n",
              "    .dataframe tbody tr th {\n",
              "        vertical-align: top;\n",
              "    }\n",
              "\n",
              "    .dataframe thead th {\n",
              "        text-align: right;\n",
              "    }\n",
              "</style>\n",
              "<table border=\"1\" class=\"dataframe\">\n",
              "  <thead>\n",
              "    <tr style=\"text-align: right;\">\n",
              "      <th></th>\n",
              "      <th>ID</th>\n",
              "      <th>Vehicles</th>\n",
              "    </tr>\n",
              "  </thead>\n",
              "  <tbody>\n",
              "  </tbody>\n",
              "</table>\n",
              "</div>"
            ],
            "text/plain": [
              "Empty DataFrame\n",
              "Columns: [ID, Vehicles]\n",
              "Index: []"
            ]
          },
          "metadata": {
            "tags": []
          },
          "execution_count": 145
        }
      ]
    },
    {
      "cell_type": "code",
      "metadata": {
        "colab": {
          "base_uri": "https://localhost:8080/"
        },
        "id": "r8LQM3vmZ1OB",
        "outputId": "52d6683e-831a-43ec-f73a-8c0eee03c8a7"
      },
      "source": [
        "train.info()"
      ],
      "execution_count": 146,
      "outputs": [
        {
          "output_type": "stream",
          "text": [
            "<class 'pandas.core.frame.DataFrame'>\n",
            "RangeIndex: 48120 entries, 0 to 48119\n",
            "Data columns (total 4 columns):\n",
            " #   Column    Non-Null Count  Dtype \n",
            "---  ------    --------------  ----- \n",
            " 0   DateTime  48120 non-null  object\n",
            " 1   Junction  48120 non-null  int64 \n",
            " 2   Vehicles  48120 non-null  int64 \n",
            " 3   ID        48120 non-null  int64 \n",
            "dtypes: int64(3), object(1)\n",
            "memory usage: 1.5+ MB\n"
          ],
          "name": "stdout"
        }
      ]
    },
    {
      "cell_type": "code",
      "metadata": {
        "colab": {
          "base_uri": "https://localhost:8080/"
        },
        "id": "p2CoWbRuZ5iY",
        "outputId": "f946ee42-ef5c-424f-e65b-dfc6f10cfc36"
      },
      "source": [
        "test.info()"
      ],
      "execution_count": 147,
      "outputs": [
        {
          "output_type": "stream",
          "text": [
            "<class 'pandas.core.frame.DataFrame'>\n",
            "RangeIndex: 11808 entries, 0 to 11807\n",
            "Data columns (total 3 columns):\n",
            " #   Column    Non-Null Count  Dtype \n",
            "---  ------    --------------  ----- \n",
            " 0   DateTime  11808 non-null  object\n",
            " 1   Junction  11808 non-null  int64 \n",
            " 2   ID        11808 non-null  int64 \n",
            "dtypes: int64(2), object(1)\n",
            "memory usage: 276.9+ KB\n"
          ],
          "name": "stdout"
        }
      ]
    },
    {
      "cell_type": "markdown",
      "metadata": {
        "id": "pTv47yLMHCu5"
      },
      "source": [
        "Check for null values"
      ]
    },
    {
      "cell_type": "code",
      "metadata": {
        "colab": {
          "base_uri": "https://localhost:8080/"
        },
        "id": "ChzCBjRaHJGI",
        "outputId": "d2bbe283-1441-4165-d5e3-33ece6f6eac8"
      },
      "source": [
        "train.isnull().sum()"
      ],
      "execution_count": 148,
      "outputs": [
        {
          "output_type": "execute_result",
          "data": {
            "text/plain": [
              "DateTime    0\n",
              "Junction    0\n",
              "Vehicles    0\n",
              "ID          0\n",
              "dtype: int64"
            ]
          },
          "metadata": {
            "tags": []
          },
          "execution_count": 148
        }
      ]
    },
    {
      "cell_type": "code",
      "metadata": {
        "colab": {
          "base_uri": "https://localhost:8080/"
        },
        "id": "2hK5CTjZHMnp",
        "outputId": "83bd3a50-924e-4c5d-dbf8-0fee212da51f"
      },
      "source": [
        "test.isnull().sum()"
      ],
      "execution_count": 149,
      "outputs": [
        {
          "output_type": "execute_result",
          "data": {
            "text/plain": [
              "DateTime    0\n",
              "Junction    0\n",
              "ID          0\n",
              "dtype: int64"
            ]
          },
          "metadata": {
            "tags": []
          },
          "execution_count": 149
        }
      ]
    },
    {
      "cell_type": "markdown",
      "metadata": {
        "id": "356OalCJFI0R"
      },
      "source": [
        "Separate datetime"
      ]
    },
    {
      "cell_type": "code",
      "metadata": {
        "colab": {
          "base_uri": "https://localhost:8080/"
        },
        "id": "ro1W8Gl9FLA_",
        "outputId": "ff6ed4c4-f288-44e6-8bc9-0c7fd9878b14"
      },
      "source": [
        "train['DateTime'] = pd.to_datetime(train['DateTime'], errors='coerce')\r\n",
        "test['DateTime'] = pd.to_datetime(test['DateTime'], errors='coerce')\r\n",
        "\r\n",
        "train['hourofday'] = train['DateTime'].dt.hour\r\n",
        "test['hourofday'] = test['DateTime'].dt.hour\r\n",
        "\r\n",
        "train['dayofweek'] = train['DateTime'].dt.dayofweek\r\n",
        "test['dayofweek'] = test['DateTime'].dt.dayofweek\r\n",
        "\r\n",
        "train['weekofyear'] = train['DateTime'].dt.week\r\n",
        "test['weekofyear'] = test['DateTime'].dt.week\r\n",
        "\r\n",
        "train['monthofyear'] = train['DateTime'].dt.month\r\n",
        "test['monthofyear'] = test['DateTime'].dt.month\r\n",
        "\r\n",
        "train['year'] = train['DateTime'].dt.year\r\n",
        "test['year'] = test['DateTime'].dt.year\r\n"
      ],
      "execution_count": 150,
      "outputs": [
        {
          "output_type": "stream",
          "text": [
            "/usr/local/lib/python3.6/dist-packages/ipykernel_launcher.py:10: FutureWarning: Series.dt.weekofyear and Series.dt.week have been deprecated.  Please use Series.dt.isocalendar().week instead.\n",
            "  # Remove the CWD from sys.path while we load stuff.\n",
            "/usr/local/lib/python3.6/dist-packages/ipykernel_launcher.py:11: FutureWarning: Series.dt.weekofyear and Series.dt.week have been deprecated.  Please use Series.dt.isocalendar().week instead.\n",
            "  # This is added back by InteractiveShellApp.init_path()\n"
          ],
          "name": "stderr"
        }
      ]
    },
    {
      "cell_type": "markdown",
      "metadata": {
        "id": "GKrn8u8Eu3yO"
      },
      "source": [
        "Prepare data"
      ]
    },
    {
      "cell_type": "code",
      "metadata": {
        "id": "0VdNJqhrVcFT"
      },
      "source": [
        "ID_train = train.ID\n",
        "ID_test = test.ID"
      ],
      "execution_count": 151,
      "outputs": []
    },
    {
      "cell_type": "code",
      "metadata": {
        "colab": {
          "base_uri": "https://localhost:8080/",
          "height": 407
        },
        "id": "2FEEwAGZty-O",
        "outputId": "3df6875d-9d15-4456-fb8d-15ff701995d7"
      },
      "source": [
        "train.drop(['ID'], axis=1, inplace=True)\n",
        "test.drop(['ID'], axis=1, inplace=True)\n",
        "train"
      ],
      "execution_count": 152,
      "outputs": [
        {
          "output_type": "execute_result",
          "data": {
            "text/html": [
              "<div>\n",
              "<style scoped>\n",
              "    .dataframe tbody tr th:only-of-type {\n",
              "        vertical-align: middle;\n",
              "    }\n",
              "\n",
              "    .dataframe tbody tr th {\n",
              "        vertical-align: top;\n",
              "    }\n",
              "\n",
              "    .dataframe thead th {\n",
              "        text-align: right;\n",
              "    }\n",
              "</style>\n",
              "<table border=\"1\" class=\"dataframe\">\n",
              "  <thead>\n",
              "    <tr style=\"text-align: right;\">\n",
              "      <th></th>\n",
              "      <th>DateTime</th>\n",
              "      <th>Junction</th>\n",
              "      <th>Vehicles</th>\n",
              "      <th>hourofday</th>\n",
              "      <th>dayofweek</th>\n",
              "      <th>weekofyear</th>\n",
              "      <th>monthofyear</th>\n",
              "      <th>year</th>\n",
              "    </tr>\n",
              "  </thead>\n",
              "  <tbody>\n",
              "    <tr>\n",
              "      <th>0</th>\n",
              "      <td>2015-11-01 00:00:00</td>\n",
              "      <td>1</td>\n",
              "      <td>15</td>\n",
              "      <td>0</td>\n",
              "      <td>6</td>\n",
              "      <td>44</td>\n",
              "      <td>11</td>\n",
              "      <td>2015</td>\n",
              "    </tr>\n",
              "    <tr>\n",
              "      <th>1</th>\n",
              "      <td>2015-11-01 01:00:00</td>\n",
              "      <td>1</td>\n",
              "      <td>13</td>\n",
              "      <td>1</td>\n",
              "      <td>6</td>\n",
              "      <td>44</td>\n",
              "      <td>11</td>\n",
              "      <td>2015</td>\n",
              "    </tr>\n",
              "    <tr>\n",
              "      <th>2</th>\n",
              "      <td>2015-11-01 02:00:00</td>\n",
              "      <td>1</td>\n",
              "      <td>10</td>\n",
              "      <td>2</td>\n",
              "      <td>6</td>\n",
              "      <td>44</td>\n",
              "      <td>11</td>\n",
              "      <td>2015</td>\n",
              "    </tr>\n",
              "    <tr>\n",
              "      <th>3</th>\n",
              "      <td>2015-11-01 03:00:00</td>\n",
              "      <td>1</td>\n",
              "      <td>7</td>\n",
              "      <td>3</td>\n",
              "      <td>6</td>\n",
              "      <td>44</td>\n",
              "      <td>11</td>\n",
              "      <td>2015</td>\n",
              "    </tr>\n",
              "    <tr>\n",
              "      <th>4</th>\n",
              "      <td>2015-11-01 04:00:00</td>\n",
              "      <td>1</td>\n",
              "      <td>9</td>\n",
              "      <td>4</td>\n",
              "      <td>6</td>\n",
              "      <td>44</td>\n",
              "      <td>11</td>\n",
              "      <td>2015</td>\n",
              "    </tr>\n",
              "    <tr>\n",
              "      <th>...</th>\n",
              "      <td>...</td>\n",
              "      <td>...</td>\n",
              "      <td>...</td>\n",
              "      <td>...</td>\n",
              "      <td>...</td>\n",
              "      <td>...</td>\n",
              "      <td>...</td>\n",
              "      <td>...</td>\n",
              "    </tr>\n",
              "    <tr>\n",
              "      <th>48115</th>\n",
              "      <td>2017-06-30 19:00:00</td>\n",
              "      <td>4</td>\n",
              "      <td>11</td>\n",
              "      <td>19</td>\n",
              "      <td>4</td>\n",
              "      <td>26</td>\n",
              "      <td>6</td>\n",
              "      <td>2017</td>\n",
              "    </tr>\n",
              "    <tr>\n",
              "      <th>48116</th>\n",
              "      <td>2017-06-30 20:00:00</td>\n",
              "      <td>4</td>\n",
              "      <td>30</td>\n",
              "      <td>20</td>\n",
              "      <td>4</td>\n",
              "      <td>26</td>\n",
              "      <td>6</td>\n",
              "      <td>2017</td>\n",
              "    </tr>\n",
              "    <tr>\n",
              "      <th>48117</th>\n",
              "      <td>2017-06-30 21:00:00</td>\n",
              "      <td>4</td>\n",
              "      <td>16</td>\n",
              "      <td>21</td>\n",
              "      <td>4</td>\n",
              "      <td>26</td>\n",
              "      <td>6</td>\n",
              "      <td>2017</td>\n",
              "    </tr>\n",
              "    <tr>\n",
              "      <th>48118</th>\n",
              "      <td>2017-06-30 22:00:00</td>\n",
              "      <td>4</td>\n",
              "      <td>22</td>\n",
              "      <td>22</td>\n",
              "      <td>4</td>\n",
              "      <td>26</td>\n",
              "      <td>6</td>\n",
              "      <td>2017</td>\n",
              "    </tr>\n",
              "    <tr>\n",
              "      <th>48119</th>\n",
              "      <td>2017-06-30 23:00:00</td>\n",
              "      <td>4</td>\n",
              "      <td>12</td>\n",
              "      <td>23</td>\n",
              "      <td>4</td>\n",
              "      <td>26</td>\n",
              "      <td>6</td>\n",
              "      <td>2017</td>\n",
              "    </tr>\n",
              "  </tbody>\n",
              "</table>\n",
              "<p>48120 rows × 8 columns</p>\n",
              "</div>"
            ],
            "text/plain": [
              "                 DateTime  Junction  Vehicles  ...  weekofyear  monthofyear  year\n",
              "0     2015-11-01 00:00:00         1        15  ...          44           11  2015\n",
              "1     2015-11-01 01:00:00         1        13  ...          44           11  2015\n",
              "2     2015-11-01 02:00:00         1        10  ...          44           11  2015\n",
              "3     2015-11-01 03:00:00         1         7  ...          44           11  2015\n",
              "4     2015-11-01 04:00:00         1         9  ...          44           11  2015\n",
              "...                   ...       ...       ...  ...         ...          ...   ...\n",
              "48115 2017-06-30 19:00:00         4        11  ...          26            6  2017\n",
              "48116 2017-06-30 20:00:00         4        30  ...          26            6  2017\n",
              "48117 2017-06-30 21:00:00         4        16  ...          26            6  2017\n",
              "48118 2017-06-30 22:00:00         4        22  ...          26            6  2017\n",
              "48119 2017-06-30 23:00:00         4        12  ...          26            6  2017\n",
              "\n",
              "[48120 rows x 8 columns]"
            ]
          },
          "metadata": {
            "tags": []
          },
          "execution_count": 152
        }
      ]
    },
    {
      "cell_type": "markdown",
      "metadata": {
        "id": "0Th5Ax7ov3Su"
      },
      "source": [
        "Graph data"
      ]
    },
    {
      "cell_type": "code",
      "metadata": {
        "colab": {
          "base_uri": "https://localhost:8080/",
          "height": 530
        },
        "id": "4wd5jd1wv5tb",
        "outputId": "aef46a38-e205-4991-9d30-047ec4d27416"
      },
      "source": [
        "import matplotlib.pyplot as plt\n",
        "\n",
        "train['Vehicles'].plot(figsize=(16, 8))\n",
        "plt.title('Time Series') \n",
        "plt.xlabel(\"DateTime\") \n",
        "plt.ylabel(\"Vehicles\")"
      ],
      "execution_count": 153,
      "outputs": [
        {
          "output_type": "execute_result",
          "data": {
            "text/plain": [
              "Text(0, 0.5, 'Vehicles')"
            ]
          },
          "metadata": {
            "tags": []
          },
          "execution_count": 153
        },
        {
          "output_type": "display_data",
          "data": {
            "image/png": "[encoded data removed]",
            "text/plain": [
              "<Figure size 1152x576 with 1 Axes>"
            ]
          },
          "metadata": {
            "tags": [],
            "needs_background": "light"
          }
        }
      ]
    },
    {
      "cell_type": "markdown",
      "metadata": {
        "id": "A8xNS0LYAvCt"
      },
      "source": [
        "Convert ds to year, month, day, and time"
      ]
    },
    {
      "cell_type": "code",
      "metadata": {
        "colab": {
          "base_uri": "https://localhost:8080/"
        },
        "id": "DKMbWMMfneqf",
        "outputId": "d90a298c-2d3e-4450-c687-f29df37a1f9a"
      },
      "source": [
        "train.info()"
      ],
      "execution_count": 154,
      "outputs": [
        {
          "output_type": "stream",
          "text": [
            "<class 'pandas.core.frame.DataFrame'>\n",
            "RangeIndex: 48120 entries, 0 to 48119\n",
            "Data columns (total 8 columns):\n",
            " #   Column       Non-Null Count  Dtype         \n",
            "---  ------       --------------  -----         \n",
            " 0   DateTime     48120 non-null  datetime64[ns]\n",
            " 1   Junction     48120 non-null  int64         \n",
            " 2   Vehicles     48120 non-null  int64         \n",
            " 3   hourofday    48120 non-null  int64         \n",
            " 4   dayofweek    48120 non-null  int64         \n",
            " 5   weekofyear   48120 non-null  int64         \n",
            " 6   monthofyear  48120 non-null  int64         \n",
            " 7   year         48120 non-null  int64         \n",
            "dtypes: datetime64[ns](1), int64(7)\n",
            "memory usage: 2.9 MB\n"
          ],
          "name": "stdout"
        }
      ]
    },
    {
      "cell_type": "markdown",
      "metadata": {
        "id": "EEXKvle3Zaz-"
      },
      "source": [
        "Define X and y variables"
      ]
    },
    {
      "cell_type": "code",
      "metadata": {
        "id": "69nh8siNZaSJ"
      },
      "source": [
        "y = train['Vehicles'].values\n",
        "X = train.drop(['Vehicles', 'DateTime'], axis=1)\n",
        "X_test = test.drop(['DateTime'], axis=1)"
      ],
      "execution_count": 156,
      "outputs": []
    },
    {
      "cell_type": "markdown",
      "metadata": {
        "id": "RatSXssswNCC"
      },
      "source": [
        "Split training set for testing and validation"
      ]
    },
    {
      "cell_type": "code",
      "metadata": {
        "colab": {
          "base_uri": "https://localhost:8080/"
        },
        "id": "kEOqT7EweZWx",
        "outputId": "521f5cc2-233d-4898-96a7-4874cd917dc2"
      },
      "source": [
        "from sklearn.model_selection import train_test_split\n",
        "\n",
        "X_train, X_val, y_train, y_val = train_test_split(X, y, test_size=0.1, random_state=1)\n",
        "X_train.shape, X_val.shape, y_train.shape, y_val.shape, X_test.shape"
      ],
      "execution_count": 157,
      "outputs": [
        {
          "output_type": "execute_result",
          "data": {
            "text/plain": [
              "((43308, 6), (4812, 6), (43308,), (4812,), (11808, 6))"
            ]
          },
          "metadata": {
            "tags": []
          },
          "execution_count": 157
        }
      ]
    },
    {
      "cell_type": "markdown",
      "metadata": {
        "id": "ekfezBSCfjnc"
      },
      "source": [
        "Make pipeline"
      ]
    },
    {
      "cell_type": "code",
      "metadata": {
        "colab": {
          "base_uri": "https://localhost:8080/"
        },
        "id": "KZi8I6tLfp9x",
        "outputId": "d84e2606-7660-408d-ce14-b27f923f496b"
      },
      "source": [
        "from sklearn.pipeline import make_pipeline\n",
        "from sklearn.preprocessing import StandardScaler\n",
        "from sklearn.ensemble import BaggingRegressor\n",
        "from sklearn.ensemble import GradientBoostingRegressor\n",
        "\n",
        "model = make_pipeline(StandardScaler(), BaggingRegressor(base_estimator=GradientBoostingRegressor(max_depth=5, min_samples_split=2, loss='ls',n_estimators=400, learning_rate=.1, random_state=1))).fit(X_train, y_train)\n",
        "print(model.score(X_train, y_train))"
      ],
      "execution_count": 158,
      "outputs": [
        {
          "output_type": "stream",
          "text": [
            "0.9543815292327636\n"
          ],
          "name": "stdout"
        }
      ]
    },
    {
      "cell_type": "markdown",
      "metadata": {
        "id": "twOF6WfXm79U"
      },
      "source": [
        "Predict on validation set"
      ]
    },
    {
      "cell_type": "code",
      "metadata": {
        "id": "v6dEwJ5yfO7-",
        "colab": {
          "base_uri": "https://localhost:8080/"
        },
        "outputId": "a58ec104-5f62-438b-fb45-38b3f7051551"
      },
      "source": [
        "from sklearn.metrics import r2_score\n",
        "\n",
        "y_pred = model.predict(X_val)\n",
        "y_pred = y_pred.astype(int)\n",
        "print(model.score(X_val, y_val)), print(r2_score(y_pred, model.predict(X_val)))"
      ],
      "execution_count": 159,
      "outputs": [
        {
          "output_type": "stream",
          "text": [
            "0.9475688567856165\n",
            "0.9991574277826456\n"
          ],
          "name": "stdout"
        },
        {
          "output_type": "execute_result",
          "data": {
            "text/plain": [
              "(None, None)"
            ]
          },
          "metadata": {
            "tags": []
          },
          "execution_count": 159
        }
      ]
    },
    {
      "cell_type": "code",
      "metadata": {
        "id": "UTdJUVJhiQd-",
        "colab": {
          "base_uri": "https://localhost:8080/"
        },
        "outputId": "135a4684-0638-4dda-a49b-b103768ed76b"
      },
      "source": [
        "y_pred"
      ],
      "execution_count": 160,
      "outputs": [
        {
          "output_type": "execute_result",
          "data": {
            "text/plain": [
              "array([ 21, 109,  13, ...,   7,  47,  17])"
            ]
          },
          "metadata": {
            "tags": []
          },
          "execution_count": 160
        }
      ]
    },
    {
      "cell_type": "code",
      "metadata": {
        "id": "uc0ZHyRXknDA",
        "colab": {
          "base_uri": "https://localhost:8080/",
          "height": 407
        },
        "outputId": "4bd7e293-cabe-4220-8b0f-1c3eed07278a"
      },
      "source": [
        "df_val=pd.DataFrame({'actual': y_val, 'predicted': y_pred})\n",
        "df_val.reset_index(drop=True, inplace=True)\n",
        "df_val"
      ],
      "execution_count": 161,
      "outputs": [
        {
          "output_type": "execute_result",
          "data": {
            "text/html": [
              "<div>\n",
              "<style scoped>\n",
              "    .dataframe tbody tr th:only-of-type {\n",
              "        vertical-align: middle;\n",
              "    }\n",
              "\n",
              "    .dataframe tbody tr th {\n",
              "        vertical-align: top;\n",
              "    }\n",
              "\n",
              "    .dataframe thead th {\n",
              "        text-align: right;\n",
              "    }\n",
              "</style>\n",
              "<table border=\"1\" class=\"dataframe\">\n",
              "  <thead>\n",
              "    <tr style=\"text-align: right;\">\n",
              "      <th></th>\n",
              "      <th>actual</th>\n",
              "      <th>predicted</th>\n",
              "    </tr>\n",
              "  </thead>\n",
              "  <tbody>\n",
              "    <tr>\n",
              "      <th>0</th>\n",
              "      <td>18</td>\n",
              "      <td>21</td>\n",
              "    </tr>\n",
              "    <tr>\n",
              "      <th>1</th>\n",
              "      <td>107</td>\n",
              "      <td>109</td>\n",
              "    </tr>\n",
              "    <tr>\n",
              "      <th>2</th>\n",
              "      <td>14</td>\n",
              "      <td>13</td>\n",
              "    </tr>\n",
              "    <tr>\n",
              "      <th>3</th>\n",
              "      <td>18</td>\n",
              "      <td>19</td>\n",
              "    </tr>\n",
              "    <tr>\n",
              "      <th>4</th>\n",
              "      <td>11</td>\n",
              "      <td>25</td>\n",
              "    </tr>\n",
              "    <tr>\n",
              "      <th>...</th>\n",
              "      <td>...</td>\n",
              "      <td>...</td>\n",
              "    </tr>\n",
              "    <tr>\n",
              "      <th>4807</th>\n",
              "      <td>4</td>\n",
              "      <td>6</td>\n",
              "    </tr>\n",
              "    <tr>\n",
              "      <th>4808</th>\n",
              "      <td>46</td>\n",
              "      <td>47</td>\n",
              "    </tr>\n",
              "    <tr>\n",
              "      <th>4809</th>\n",
              "      <td>8</td>\n",
              "      <td>7</td>\n",
              "    </tr>\n",
              "    <tr>\n",
              "      <th>4810</th>\n",
              "      <td>49</td>\n",
              "      <td>47</td>\n",
              "    </tr>\n",
              "    <tr>\n",
              "      <th>4811</th>\n",
              "      <td>17</td>\n",
              "      <td>17</td>\n",
              "    </tr>\n",
              "  </tbody>\n",
              "</table>\n",
              "<p>4812 rows × 2 columns</p>\n",
              "</div>"
            ],
            "text/plain": [
              "      actual  predicted\n",
              "0         18         21\n",
              "1        107        109\n",
              "2         14         13\n",
              "3         18         19\n",
              "4         11         25\n",
              "...      ...        ...\n",
              "4807       4          6\n",
              "4808      46         47\n",
              "4809       8          7\n",
              "4810      49         47\n",
              "4811      17         17\n",
              "\n",
              "[4812 rows x 2 columns]"
            ]
          },
          "metadata": {
            "tags": []
          },
          "execution_count": 161
        }
      ]
    },
    {
      "cell_type": "code",
      "metadata": {
        "colab": {
          "base_uri": "https://localhost:8080/",
          "height": 265
        },
        "id": "htUFyqKjJldF",
        "outputId": "d9e1303f-4b21-4c7a-cefc-38ea7eab3afd"
      },
      "source": [
        "# plot predictions and expected results\n",
        "from matplotlib import pyplot\n",
        "\n",
        "pyplot.plot(y_train)\n",
        "pyplot.plot([None for i in y_train] + [x for x in y_val])\n",
        "pyplot.plot([None for i in y_train] + [x for x in y_pred])\n",
        "pyplot.show()"
      ],
      "execution_count": 162,
      "outputs": [
        {
          "output_type": "display_data",
          "data": {
            "image/png": "[encoded data removed]",
            "text/plain": [
              "<Figure size 432x288 with 1 Axes>"
            ]
          },
          "metadata": {
            "tags": [],
            "needs_background": "light"
          }
        }
      ]
    },
    {
      "cell_type": "markdown",
      "metadata": {
        "id": "EfKU2NLjnBto"
      },
      "source": [
        "Predict on test set"
      ]
    },
    {
      "cell_type": "code",
      "metadata": {
        "colab": {
          "base_uri": "https://localhost:8080/"
        },
        "id": "aoeoSvjoI5vs",
        "outputId": "c88867c6-37a0-4a0d-e92c-b8a776882769"
      },
      "source": [
        "final_labels = model.predict(X_test)\n",
        "final_labels = final_labels.astype(int)\n",
        "final_labels"
      ],
      "execution_count": 163,
      "outputs": [
        {
          "output_type": "execute_result",
          "data": {
            "text/plain": [
              "array([69, 57, 45, ..., 10, 12,  9])"
            ]
          },
          "metadata": {
            "tags": []
          },
          "execution_count": 163
        }
      ]
    },
    {
      "cell_type": "code",
      "metadata": {
        "colab": {
          "base_uri": "https://localhost:8080/"
        },
        "id": "Pywh_pAh0uM6",
        "outputId": "be5f8100-987d-4763-b308-b484666dae35"
      },
      "source": [
        "output = pd.DataFrame({'ID': ID_test, 'Vehicles': final_labels})\n",
        "output.to_csv('submission.csv', index=False)\n",
        "print(\"Your submission was successfully saved!\")"
      ],
      "execution_count": 164,
      "outputs": [
        {
          "output_type": "stream",
          "text": [
            "Your submission was successfully saved!\n"
          ],
          "name": "stdout"
        }
      ]
    },
    {
      "cell_type": "code",
      "metadata": {
        "colab": {
          "base_uri": "https://localhost:8080/",
          "height": 407
        },
        "id": "eUwIWNfm1MLM",
        "outputId": "f7633e4b-fea0-4cfc-d91f-469c2b34a363"
      },
      "source": [
        "#upload submission\n",
        "submission = pd.read_csv(\"submission.csv\")\n",
        "submission"
      ],
      "execution_count": 165,
      "outputs": [
        {
          "output_type": "execute_result",
          "data": {
            "text/html": [
              "<div>\n",
              "<style scoped>\n",
              "    .dataframe tbody tr th:only-of-type {\n",
              "        vertical-align: middle;\n",
              "    }\n",
              "\n",
              "    .dataframe tbody tr th {\n",
              "        vertical-align: top;\n",
              "    }\n",
              "\n",
              "    .dataframe thead th {\n",
              "        text-align: right;\n",
              "    }\n",
              "</style>\n",
              "<table border=\"1\" class=\"dataframe\">\n",
              "  <thead>\n",
              "    <tr style=\"text-align: right;\">\n",
              "      <th></th>\n",
              "      <th>ID</th>\n",
              "      <th>Vehicles</th>\n",
              "    </tr>\n",
              "  </thead>\n",
              "  <tbody>\n",
              "    <tr>\n",
              "      <th>0</th>\n",
              "      <td>20170701001</td>\n",
              "      <td>69</td>\n",
              "    </tr>\n",
              "    <tr>\n",
              "      <th>1</th>\n",
              "      <td>20170701011</td>\n",
              "      <td>57</td>\n",
              "    </tr>\n",
              "    <tr>\n",
              "      <th>2</th>\n",
              "      <td>20170701021</td>\n",
              "      <td>45</td>\n",
              "    </tr>\n",
              "    <tr>\n",
              "      <th>3</th>\n",
              "      <td>20170701031</td>\n",
              "      <td>37</td>\n",
              "    </tr>\n",
              "    <tr>\n",
              "      <th>4</th>\n",
              "      <td>20170701041</td>\n",
              "      <td>30</td>\n",
              "    </tr>\n",
              "    <tr>\n",
              "      <th>...</th>\n",
              "      <td>...</td>\n",
              "      <td>...</td>\n",
              "    </tr>\n",
              "    <tr>\n",
              "      <th>11803</th>\n",
              "      <td>20171031194</td>\n",
              "      <td>11</td>\n",
              "    </tr>\n",
              "    <tr>\n",
              "      <th>11804</th>\n",
              "      <td>20171031204</td>\n",
              "      <td>11</td>\n",
              "    </tr>\n",
              "    <tr>\n",
              "      <th>11805</th>\n",
              "      <td>20171031214</td>\n",
              "      <td>10</td>\n",
              "    </tr>\n",
              "    <tr>\n",
              "      <th>11806</th>\n",
              "      <td>20171031224</td>\n",
              "      <td>12</td>\n",
              "    </tr>\n",
              "    <tr>\n",
              "      <th>11807</th>\n",
              "      <td>20171031234</td>\n",
              "      <td>9</td>\n",
              "    </tr>\n",
              "  </tbody>\n",
              "</table>\n",
              "<p>11808 rows × 2 columns</p>\n",
              "</div>"
            ],
            "text/plain": [
              "                ID  Vehicles\n",
              "0      20170701001        69\n",
              "1      20170701011        57\n",
              "2      20170701021        45\n",
              "3      20170701031        37\n",
              "4      20170701041        30\n",
              "...            ...       ...\n",
              "11803  20171031194        11\n",
              "11804  20171031204        11\n",
              "11805  20171031214        10\n",
              "11806  20171031224        12\n",
              "11807  20171031234         9\n",
              "\n",
              "[11808 rows x 2 columns]"
            ]
          },
          "metadata": {
            "tags": []
          },
          "execution_count": 165
        }
      ]
    }
  ]
}